{
 "cells": [
  {
   "cell_type": "markdown",
   "id": "44eef598",
   "metadata": {},
   "source": [
    "## UV: \n",
    "An extremely fast Python package and project manager.\n",
    "\n",
    "[docs](https://docs.astral.sh/uv/)"
   ]
  },
  {
   "cell_type": "code",
   "execution_count": null,
   "id": "6b9faf29",
   "metadata": {
    "vscode": {
     "languageId": "shellscript"
    }
   },
   "outputs": [],
   "source": [
    "!curl -LsSf https://astral.sh/uv/install.sh | sh"
   ]
  },
  {
   "cell_type": "markdown",
   "id": "c8dc7c2d",
   "metadata": {},
   "source": [
    "### Python Versions\n",
    "\n",
    "uv installs Python and allows quickly switching between versions.\n",
    "\n"
   ]
  },
  {
   "cell_type": "code",
   "execution_count": null,
   "id": "c1aafa2d",
   "metadata": {
    "vscode": {
     "languageId": "shellscript"
    }
   },
   "outputs": [],
   "source": [
    "!uv python install 3.12"
   ]
  },
  {
   "cell_type": "markdown",
   "id": "946b8a49",
   "metadata": {},
   "source": [
    "### Projects"
   ]
  },
  {
   "cell_type": "markdown",
   "id": "480ccce5",
   "metadata": {},
   "source": [
    "uv manages project dependencies and environments, with support for lockfiles, workspaces, and more, similar to rye or poetry:"
   ]
  },
  {
   "cell_type": "code",
   "execution_count": null,
   "id": "0eda6ff7",
   "metadata": {
    "vscode": {
     "languageId": "shellscript"
    }
   },
   "outputs": [],
   "source": [
    "!uv init my_project"
   ]
  },
  {
   "cell_type": "code",
   "execution_count": null,
   "id": "f6722986",
   "metadata": {
    "vscode": {
     "languageId": "shellscript"
    }
   },
   "outputs": [],
   "source": [
    "!cd my_project"
   ]
  },
  {
   "cell_type": "code",
   "execution_count": null,
   "id": "9efdab21",
   "metadata": {
    "vscode": {
     "languageId": "shellscript"
    }
   },
   "outputs": [],
   "source": [
    "!uv add ruff mypy"
   ]
  },
  {
   "cell_type": "code",
   "execution_count": null,
   "id": "10ad0f0a",
   "metadata": {
    "vscode": {
     "languageId": "shellscript"
    }
   },
   "outputs": [],
   "source": [
    "!uv run ruff check"
   ]
  },
  {
   "cell_type": "code",
   "execution_count": null,
   "id": "3dd0cdd4",
   "metadata": {
    "vscode": {
     "languageId": "shellscript"
    }
   },
   "outputs": [],
   "source": [
    "!uv lock"
   ]
  },
  {
   "cell_type": "code",
   "execution_count": null,
   "id": "a34a0a67",
   "metadata": {
    "vscode": {
     "languageId": "shellscript"
    }
   },
   "outputs": [],
   "source": [
    "!uv sync"
   ]
  },
  {
   "cell_type": "markdown",
   "id": "4b00b02a",
   "metadata": {},
   "source": [
    "## GIT\n",
    "\n",
    "Git is a free and open source distributed version control system designed to handle everything from small to very large projects with speed and efficiency."
   ]
  },
  {
   "cell_type": "code",
   "execution_count": null,
   "id": "67d9e6d1",
   "metadata": {
    "vscode": {
     "languageId": "shellscript"
    }
   },
   "outputs": [],
   "source": [
    "!brew install git # Mac os\n",
    "!sudo apt install git # Linux"
   ]
  },
  {
   "cell_type": "code",
   "execution_count": null,
   "id": "c4189195",
   "metadata": {
    "vscode": {
     "languageId": "shellscript"
    }
   },
   "outputs": [],
   "source": [
    "!git --version"
   ]
  },
  {
   "cell_type": "markdown",
   "id": "839fa2b0",
   "metadata": {},
   "source": [
    "### Git Config\n",
    "\n",
    "This is important for version control systems, as each Git commit uses this information:"
   ]
  },
  {
   "cell_type": "code",
   "execution_count": null,
   "id": "dffc67ad",
   "metadata": {
    "vscode": {
     "languageId": "shellscript"
    }
   },
   "outputs": [],
   "source": [
    "!git config --global user.name \"Your Name\""
   ]
  },
  {
   "cell_type": "code",
   "execution_count": null,
   "id": "d6ca1732",
   "metadata": {
    "vscode": {
     "languageId": "shellscript"
    }
   },
   "outputs": [],
   "source": [
    "!git config --global user.email \"you@example.com\""
   ]
  },
  {
   "cell_type": "markdown",
   "id": "153f6a86",
   "metadata": {},
   "source": [
    "Use `--global` to set the value for every repository on your computer.\n",
    "\n",
    "Use `--local` (the default) to set it only for the current repository."
   ]
  },
  {
   "cell_type": "code",
   "execution_count": null,
   "id": "7a706638",
   "metadata": {
    "vscode": {
     "languageId": "shellscript"
    }
   },
   "outputs": [],
   "source": [
    "!git config --list"
   ]
  },
  {
   "cell_type": "markdown",
   "id": "6c85273b",
   "metadata": {},
   "source": [
    "Set the default branch name for new repositories (for example, main instead of master):"
   ]
  },
  {
   "cell_type": "code",
   "execution_count": null,
   "id": "9f9fb8ab",
   "metadata": {
    "vscode": {
     "languageId": "shellscript"
    }
   },
   "outputs": [],
   "source": [
    "!git config --global init.defaultBranch main"
   ]
  },
  {
   "cell_type": "markdown",
   "id": "8e45038e",
   "metadata": {},
   "source": [
    "### Initialize Git\n",
    "We will use the project folder that we created before with uv, we can initialize Git on that folder:"
   ]
  },
  {
   "cell_type": "code",
   "execution_count": null,
   "id": "b932c17f",
   "metadata": {
    "vscode": {
     "languageId": "shellscript"
    }
   },
   "outputs": [],
   "source": [
    "!git init "
   ]
  },
  {
   "cell_type": "markdown",
   "id": "3967dc95",
   "metadata": {},
   "source": [
    "### What is a Repository?\n",
    "A Git repository is a folder that Git tracks for changes.\n",
    "\n",
    "The repository stores all your project's history and versions."
   ]
  },
  {
   "cell_type": "markdown",
   "id": "939ddac4",
   "metadata": {},
   "source": [
    "### What Happens When You Run git init?\n",
    "Git creates a hidden folder called .git inside your project.\n",
    "\n",
    "This is where Git stores all the information it needs to track your files and history."
   ]
  },
  {
   "cell_type": "code",
   "execution_count": null,
   "id": "7ffeade9",
   "metadata": {
    "vscode": {
     "languageId": "shellscript"
    }
   },
   "outputs": [],
   "source": [
    "!ls -a"
   ]
  },
  {
   "cell_type": "markdown",
   "id": "91109b31",
   "metadata": {},
   "source": [
    "### Check File Status with git status"
   ]
  },
  {
   "cell_type": "code",
   "execution_count": null,
   "id": "7f4fd0a5",
   "metadata": {
    "vscode": {
     "languageId": "shellscript"
    }
   },
   "outputs": [],
   "source": [
    "!git status"
   ]
  },
  {
   "cell_type": "markdown",
   "id": "432ff914",
   "metadata": {},
   "source": [
    "### What is an Untracked File?\n",
    "An untracked file is any file in your project folder that Git is not yet tracking.\n",
    "\n",
    "These are files you've created or copied into the folder, but haven't told Git to watch."
   ]
  },
  {
   "cell_type": "markdown",
   "id": "992d3852",
   "metadata": {},
   "source": [
    "### What is the Staging Environment?\n",
    "The staging environment (or staging area) is like a waiting room for your changes.\n",
    "\n",
    "You use it to tell Git exactly which files you want to include in your next commit.\n",
    "\n",
    "This gives you control over what goes into your project history."
   ]
  },
  {
   "cell_type": "markdown",
   "id": "92244bde",
   "metadata": {},
   "source": [
    "### Stage a File with git add\n",
    "To add a file to the staging area, use `git add <file>`:"
   ]
  },
  {
   "cell_type": "code",
   "execution_count": null,
   "id": "62d3bf32",
   "metadata": {
    "vscode": {
     "languageId": "shellscript"
    }
   },
   "outputs": [],
   "source": [
    "!git add pyproject.toml uv.lock"
   ]
  },
  {
   "cell_type": "markdown",
   "id": "a67fb0c7",
   "metadata": {},
   "source": [
    "Now the pyproject & uv lock are staged. You can check what is staged with `git status`:\n",
    "\n"
   ]
  },
  {
   "cell_type": "code",
   "execution_count": null,
   "id": "faa27a34",
   "metadata": {
    "vscode": {
     "languageId": "shellscript"
    }
   },
   "outputs": [],
   "source": [
    "!git status"
   ]
  },
  {
   "cell_type": "markdown",
   "id": "61425db1",
   "metadata": {},
   "source": [
    "### How to Unstage a File\n",
    "If you staged a file by mistake, you can remove it from the staging area (unstage it) with:"
   ]
  },
  {
   "cell_type": "code",
   "execution_count": null,
   "id": "4a691463",
   "metadata": {
    "vscode": {
     "languageId": "shellscript"
    }
   },
   "outputs": [],
   "source": [
    "!git restore --staged pyproject.toml"
   ]
  },
  {
   "cell_type": "markdown",
   "id": "a25c3838",
   "metadata": {
    "vscode": {
     "languageId": "shellscript"
    }
   },
   "source": [
    "### Stage Multiple Files\n",
    "You can stage all changes (new, modified, and deleted files) at once:"
   ]
  },
  {
   "cell_type": "code",
   "execution_count": null,
   "id": "b566b12b",
   "metadata": {
    "vscode": {
     "languageId": "shellscript"
    }
   },
   "outputs": [],
   "source": [
    "!git add --all"
   ]
  },
  {
   "cell_type": "markdown",
   "id": "25a255b2",
   "metadata": {},
   "source": [
    "### What is a Commit?\n",
    "A commit is like a save point in your project.\n",
    "\n",
    "It records a snapshot of your files at a certain time, with a message describing what changed.\n",
    "\n",
    "You can always go back to a previous commit if you need to.\n",
    "\n",
    "o save your staged changes, use `git commit -m \"your message\"`:"
   ]
  },
  {
   "cell_type": "code",
   "execution_count": null,
   "id": "706de7cc",
   "metadata": {
    "vscode": {
     "languageId": "shellscript"
    }
   },
   "outputs": [],
   "source": [
    "!git commit -m \"my first commit\""
   ]
  },
  {
   "cell_type": "markdown",
   "id": "edd926ea",
   "metadata": {},
   "source": [
    "### View Commit History\n",
    "To view the history of commits for a repository, you can use the `git log command`:"
   ]
  },
  {
   "cell_type": "code",
   "execution_count": null,
   "id": "15a7f4bc",
   "metadata": {
    "vscode": {
     "languageId": "shellscript"
    }
   },
   "outputs": [],
   "source": [
    "!git log"
   ]
  },
  {
   "cell_type": "markdown",
   "id": "9ee15ed7",
   "metadata": {},
   "source": [
    "### What is a Git Branch?\n",
    "In Git, a branch is like a separate workspace where you can make changes and try new ideas without affecting the main project. Think of it as a \"parallel universe\" for your code.\n",
    "\n",
    "### Why Use Branches?\n",
    "Branches let you work on different parts of a project, like new features or bug fixes, without interfering with the main branch.\n",
    "\n",
    "### Common Reasons to Create a Branch\n",
    "Developing a new feature\n",
    "Fixing a bug\n",
    "Experimenting with ideas"
   ]
  },
  {
   "cell_type": "markdown",
   "id": "5994139e",
   "metadata": {},
   "source": [
    "### Why and When to Use Git Help?\n",
    "Git has many commands and options.\n",
    "\n",
    "If you forget how a command works or want to learn about its options, you can use Git's built-in help.\n",
    "\n",
    "This is the fastest way to get answers without leaving your terminal."
   ]
  },
  {
   "cell_type": "code",
   "execution_count": null,
   "id": "2e66de78",
   "metadata": {
    "vscode": {
     "languageId": "shellscript"
    }
   },
   "outputs": [],
   "source": [
    "!git branch first_branch"
   ]
  },
  {
   "cell_type": "markdown",
   "id": "6cac54a3",
   "metadata": {},
   "source": [
    "### Listing All Branches\n",
    "Let's confirm that we have created a new branch.\n",
    "\n",
    "To see all branches in your repository, use:"
   ]
  },
  {
   "cell_type": "code",
   "execution_count": null,
   "id": "677d5e71",
   "metadata": {
    "vscode": {
     "languageId": "shellscript"
    }
   },
   "outputs": [],
   "source": [
    "!git branch"
   ]
  },
  {
   "cell_type": "markdown",
   "id": "bd57cace",
   "metadata": {},
   "source": [
    "### Switching Between Branches\n",
    "checkout is the command used to check out a branch.\n",
    "\n",
    "Moving us from the current branch, to the one specified at the end of the command:"
   ]
  },
  {
   "cell_type": "code",
   "execution_count": null,
   "id": "6994f9c0",
   "metadata": {
    "vscode": {
     "languageId": "shellscript"
    }
   },
   "outputs": [],
   "source": [
    "!git checkout first-branch"
   ]
  },
  {
   "cell_type": "markdown",
   "id": "e726e2eb",
   "metadata": {},
   "source": [
    "### Pushing Changes\n",
    "After you commit, your changes are only in your local repository.\n",
    "\n",
    "Use git push to send your commits to a remote repository (like GitHub or Bitbucket) so others can see them."
   ]
  },
  {
   "cell_type": "code",
   "execution_count": null,
   "id": "377e92f3",
   "metadata": {
    "vscode": {
     "languageId": "shellscript"
    }
   },
   "outputs": [],
   "source": [
    "!git push"
   ]
  },
  {
   "cell_type": "markdown",
   "id": "2567b736",
   "metadata": {},
   "source": [
    "### What is Merging in Git?\n",
    "Merging in Git means combining the changes from one branch into another.\n",
    "\n",
    "This is how you bring your work together after working separately on different features or bug fixes."
   ]
  },
  {
   "cell_type": "markdown",
   "id": "8f96e7ab",
   "metadata": {},
   "source": [
    "### Merging Branches\n",
    "To combine the changes from one branch into another, use `git merge`.\n",
    "\n",
    "Usually, you first switch to the branch you want to merge into (often main or master), then run the merge command with the branch name you want to combine in.\n",
    "\n",
    "First, we need to change to the master branch:"
   ]
  },
  {
   "cell_type": "code",
   "execution_count": null,
   "id": "ea963c9b",
   "metadata": {
    "vscode": {
     "languageId": "shellscript"
    }
   },
   "outputs": [],
   "source": [
    "!git checkout main"
   ]
  },
  {
   "cell_type": "markdown",
   "id": "b7050364",
   "metadata": {},
   "source": [
    "Now we merge the current branch (`main`) with `first-branch`:"
   ]
  },
  {
   "cell_type": "code",
   "execution_count": null,
   "id": "e060b1f1",
   "metadata": {
    "vscode": {
     "languageId": "shellscript"
    }
   },
   "outputs": [],
   "source": [
    "!git merge first-branch"
   ]
  },
  {
   "cell_type": "markdown",
   "id": "d9628bf0",
   "metadata": {},
   "source": [
    "### Deleting a Branch\n",
    "When you're done with a branch, you can delete it:"
   ]
  },
  {
   "cell_type": "code",
   "execution_count": null,
   "id": "4595ea60",
   "metadata": {
    "vscode": {
     "languageId": "shellscript"
    }
   },
   "outputs": [],
   "source": [
    "!git branch -d first-branch"
   ]
  },
  {
   "cell_type": "markdown",
   "id": "02893bf3",
   "metadata": {},
   "source": [
    "### Key Commands for Getting Help\n",
    "\n",
    "`git help <command>` - See the manual page for a command.\n",
    "\n",
    "`git <command> --help` - See help for a command (same as above).\n",
    "\n",
    "`git <command> -h` - See a quick summary of options.\n",
    "\n",
    "`git help --all` - List all possible Git commands.\n",
    "\n",
    "`git help -g` - List guides and concepts."
   ]
  },
  {
   "cell_type": "markdown",
   "id": "6429c0fa",
   "metadata": {},
   "source": []
  }
 ],
 "metadata": {
  "kernelspec": {
   "display_name": ".venv",
   "language": "python",
   "name": "python3"
  },
  "language_info": {
   "codemirror_mode": {
    "name": "ipython",
    "version": 3
   },
   "file_extension": ".py",
   "mimetype": "text/x-python",
   "name": "python",
   "nbconvert_exporter": "python",
   "pygments_lexer": "ipython3",
   "version": "3.12.11"
  }
 },
 "nbformat": 4,
 "nbformat_minor": 5
}
