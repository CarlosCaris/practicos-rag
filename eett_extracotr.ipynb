{
 "cells": [
  {
   "cell_type": "markdown",
   "metadata": {},
   "source": [
    "# GOAL\n",
    "\n",
    "- Extract the EETT data from a PDF file\n",
    "- Save the data in a CSV file"
   ]
  },
  {
   "cell_type": "code",
   "execution_count": 4,
   "metadata": {},
   "outputs": [],
   "source": [
    "from langchain_community.document_loaders import PyPDFLoader\n",
    "from dotenv import load_dotenv\n",
    "\n",
    "load_dotenv()\n",
    "\n",
    "file_path = (\n",
    "    \"/Users/josecarlos/repos/practicos-rag/EETT Infranormativo JI Los Palomos_rev02_normativo-print.pdf\"\n",
    ")\n",
    "loader = PyPDFLoader(file_path)\n",
    "docs = loader.load()"
   ]
  },
  {
   "cell_type": "code",
   "execution_count": 3,
   "metadata": {},
   "outputs": [
    {
     "data": {
      "text/plain": [
       "50"
      ]
     },
     "execution_count": 3,
     "metadata": {},
     "output_type": "execute_result"
    }
   ],
   "source": [
    "len(docs)"
   ]
  },
  {
   "cell_type": "code",
   "execution_count": 7,
   "metadata": {},
   "outputs": [
    {
     "data": {
      "text/plain": [
       "Document(metadata={'source': '/Users/josecarlos/repos/practicos-rag/EETT Infranormativo JI Los Palomos_rev02_normativo-print.pdf', 'page': 27}, page_content='ESPECIFICACIONES TECNICAS\\nES.\\n4.2 MOBILIARIOS FIJOS\\n4.2.1 ACCESORIOS SALAS DE HABITOS HIGIENICOS\\n4.2.1.1 Mudador\\nDimensiones O.8O x 0.90 x O.8O m\\nESTRUCTURA GENERAL \\nSe consulta Mueble Mudador según planos adjuntos. Estructura en placa de Melamina\\nde 24mm, MDF o calidad similar o superior en características, con enchape y tapacantos\\ncolor BLANCO. Las uniones se afianzarán mediante tornillos soberbios. La cabeza de los\\ntornillos se cubrirá con Tapa Soberbio color blanco. \\nBASE MUDADOR Y BANDEJA PARA COLCHONETAS \\nSe consultan en placa de Melamina de 24mm, MDF o calidad similar o superior, con\\nenchape y tapacantos color BLANCO. Considera bordes redondeados en parte frontal.\\nDimensiones de acuerdo a plano de detalles. La base del mudador deberá incorporar\\nhuinchas de VELCRO color blanco, 5 cm de espesor y 40cms de largo, para permitir la\\nunión de las Colchonetas a la base del mudador. \\nBARANDAS DE SEGURIDAD \\nSe consultan en placa de Melamina de 24mm, MDF o calidad similar o superior, con\\nenchape y tapacantos color BLANCO. Con cantos redondeados de acuerdo a plano de\\ndetalles. Las barandas deberán ser removibles, para lo cual deberán incluir un sistema\\nde fijación que permita que estos elementos se remuevan y se puedan desplazar hacia\\nlos  otros  costados  del  mueble  mudador,  asegurando  su  firmeza  y  estabilidad).  Se\\nconsidera además funda acolchada en cada baranda, forrada en tela de tevinil lavable e\\nimpermeable, color a definir por Fundación Integra, con costuras reforzadas. Deberán\\nincorporar huinchas de VELCRO color blanco, de ancho mínimo 50mm, para permitir la\\nunión a baranda de seguridad.\\nCOLCHONETAS\\nSe  consultan  tres  colchonetas  para  mueble  mudador,  dimensiones  según  plano  de\\ndetalles. Se confeccionarán en espuma plástica Moltoprén de 5cm. de espesor. La funda\\nexterior se considera en Tela de Tevinil lavable e impermeable, colores a definir por\\nFundación Integra. Se exigirá un trabajo de primera calidad en cuanto a materiales y a\\ncosturas reforzadas. Las colchonetas deberán incluir huincha de VELCRO color blanco,\\nde 5 cm de espesor y 40cms de largo, que permitan su unión entre sí  y a la Base del\\nMudador,  el  cual  también  incorpora  huinchas  de  Velero,  esto  para  evitar  que  las\\ncolchonetas se muevan durante el proceso de muda y/o el paso del niño/a a la tineta.\\nSólo la colchoneta superior deberá incluir pestañas laterales y acolchadas; la funda será\\ndel mismo material exterior de las demás Colchonetas.\\nESCABEL PLEGABLE DE 3 PELDAÑOS\\nSe consulta la provisión de Escabel plegable de 3 peldaños. Las características generales\\nserán las siguientes:\\na.    Altura Total 80cms.\\nb. Ancho Total 40 cms.')"
      ]
     },
     "execution_count": 7,
     "metadata": {},
     "output_type": "execute_result"
    }
   ],
   "source": [
    "docs[27]"
   ]
  },
  {
   "cell_type": "code",
   "execution_count": 24,
   "metadata": {},
   "outputs": [],
   "source": [
    "from langchain_ollama import OllamaLLM\n",
    "from langchain_openai import ChatOpenAI\n",
    "#!ollama pull llama3.1\n",
    "llama_model = OllamaLLM(model=\"llama3.2\")\n",
    "gpt_model = ChatOpenAI(model=\"gpt-4o-mini\") "
   ]
  },
  {
   "cell_type": "code",
   "execution_count": 30,
   "metadata": {},
   "outputs": [],
   "source": [
    "from pydantic import BaseModel, Field\n",
    "\n",
    "class Item(BaseModel):\n",
    "    name: str = Field(description=\"Name of the item\")\n",
    "    brand: str = Field(description=\"Brand of the item\")\n",
    "    specifications: str = Field(description=\"A brief description of the specifications of the item\")\n",
    "    measurements: dict = Field(\n",
    "        description=\"Dimensions of the item, where the first value is the length, the second is the width and the third is the height\",\n",
    "        default={\n",
    "            \"length\": 0.0,\n",
    "            \"width\": 0.0,\n",
    "            \"height\": 0.0\n",
    "        }\n",
    "    )\n",
    "    quantity: int = Field(description=\"Quantity of items\", ge=0)"
   ]
  },
  {
   "cell_type": "code",
   "execution_count": 40,
   "metadata": {},
   "outputs": [],
   "source": [
    "from langchain.prompts import ChatPromptTemplate\n",
    "from langchain.schema.runnable import RunnablePassthrough\n",
    "\n",
    "extraction_prompt = ChatPromptTemplate.from_template(\"\"\"\n",
    "You are a expert architec working in extracting structured data from a EETT, your task\n",
    "is to identify items such as beds, tables, chairs, etc.\n",
    "\n",
    "Each of these items has a description, quantity and unit of measurements,\n",
    "keep close attention to the measurements, they can come in the following formats:\n",
    "- 1.20 x 0.80 x 0.20\n",
    "- 1.20 x 0.80\n",
    "- 1.20\n",
    "- 1.20 x 0.80 x 0.20 m\n",
    "- 1.20 x 0.80 m\n",
    "- 1.20 m\n",
    "and can also be named as dimensions, size, etc. where the first value is the length, the second is the width and the third is the height.\n",
    "\n",
    "You will extract all the data related to each item and return it in a structured format.\n",
    "\n",
    "Here are some examples of the data you will extract:\n",
    "\n",
    "sample text: En baños de acceso universal se ejecutará espejo de referencia Espejo\n",
    "modelo Cherry-N Con Bisel: 8 mm, Espesor: 5 mm, Fijación: Incluida, Instalación: Para\n",
    "ambos sentidosEsquinas Rectas, medida de 60x100 marca KLIPEN de MK o similar.\n",
    "\n",
    "expected output:\n",
    "{{\n",
    "    \"name\": \"Espejo Cherry-N Con Bisel\",\n",
    "    \"brand\": \"KLIPEN\",\n",
    "    \"specifications\": \"8 mm, Espesor: 5 mm, Fijación: Incluida, Instalación: Para ambos sentidosEsquinas Rectas, medida de 60x100\",\n",
    "    \"measurements\": {{\n",
    "        \"length\": 60.0,\n",
    "        \"width\": 100.0,\n",
    "        \"height\": 0.0\n",
    "    }},\n",
    "    \"quantity\": 1\n",
    "}}\n",
    "\n",
    "Now here is the context.\n",
    "\n",
    "Context: {context}\n",
    "\"\"\")\n",
    "\n",
    "# Crear una cadena para crear una pregunta\n",
    "question_chain = (\n",
    "    {\"context\": RunnablePassthrough()}\n",
    "    | extraction_prompt\n",
    "    | gpt_model.with_structured_output(Item)\n",
    ")\n",
    "\n",
    "sample_results = question_chain.invoke(docs[25:35])"
   ]
  },
  {
   "cell_type": "code",
   "execution_count": 42,
   "metadata": {},
   "outputs": [
    {
     "name": "stderr",
     "output_type": "stream",
     "text": [
      "100%|██████████| 10/10 [00:20<00:00,  2.09s/it]\n"
     ]
    }
   ],
   "source": [
    "import tqdm\n",
    "\n",
    "docs_sublist = docs[25:35]\n",
    "\n",
    "sample_results_list = []\n",
    "for doc in tqdm.tqdm(docs_sublist):\n",
    "    sample_results = question_chain.invoke(doc)\n",
    "    sample_results_list.append(sample_results)"
   ]
  },
  {
   "cell_type": "code",
   "execution_count": 43,
   "metadata": {},
   "outputs": [
    {
     "data": {
      "text/plain": [
       "[Item(name='Pintura exterior de muros y aleros', brand='Ceresita', specifications='Esmalte al agua, dos manos como mínimo, calidad de las pinturas deberá responder a las máximas exigencias de durabilidad y aspecto.', measurements={'length': 0.0, 'width': 0.0, 'height': 0.0}, quantity=1),\n",
       " Item(name='Espejo Cherry-N Con Bisel', brand='KLIPEN', specifications='8 mm, Espesor: 5 mm, Fijación: Incluida, Instalación: Para ambos sentidosEsquinas Rectas, medida de 60x100', measurements={'length': 0.0, 'width': 0.0, 'height': 0.0}, quantity=1),\n",
       " Item(name='Mudador', brand='No especificado', specifications='Estructura en placa de Melamina de 24mm, MDF o calidad similar o superior en características, con enchape y tapacantos color BLANCO. Las uniones se afianzarán mediante tornillos soberbios. La cabeza de los tornillos se cubrirá con Tapa Soberbio color blanco. La base del mudador deberá incorporar huinchas de VELCRO color blanco, 5 cm de espesor y 40cms de largo.', measurements={'length': 0.0, 'width': 0.0, 'height': 0.0}, quantity=1),\n",
       " Item(name='Repisa', brand='Masisa', specifications='Conformada por bastidores de perfiles metálicos de 30/30/3 mm. y placas de Masisa melamina blanca 18 mm. Afianzadas con tornillos. Zócalo de 10 cm.', measurements={'length': 0.0, 'width': 0.0, 'height': 0.0}, quantity=1),\n",
       " Item(name='Campana Industrial Mural', brand='Biggi', specifications=\"Formato C-150M, formatos 100x93 cm, 150x93 cm y 250x93 cm. La salida del tubo será de 8'' con extractor de tiro forzado eléctrico, también en 8''\", measurements={'length': 0.0, 'width': 0.0, 'height': 0.0}, quantity=1),\n",
       " Item(name='Tineta SINGLE-N', brand='KLIPEN', specifications='Color: Blanco, Diámetro Desagüe: 50 mm, Instalación recomendada a 410mm (mínimo 350m), Espesor 1,5 mm, sin antideslizante, borde con Bota aguas, código: HID-05-0389, incluye monomando de receptáculo Grifería externa para receptáculo Concept, Terminación: Cromo, Presión de trabajo: 3 BAR, Consumo: 14 lt x m, incluye Ducha fono, flexible y soporte móvil, Largo flexible: 1.7 mt, Ángulo movimiento soporte: 360°, Cartucho cerámico 35 mm diámetro, Composición: Cuerpo: Latón cromado, Manilla: Aleación de zinc cromado, Incluye indicador de agua cromado: Azul/Rojo', measurements={'length': 0.0, 'width': 0.0, 'height': 0.0}, quantity=1),\n",
       " Item(name='Lavamanos Comfort', brand='KLIPEN', specifications='Loza vitrificada blanca, Incluye rebalse, Instalación: A muro, Incluye: Desagüe Click, fijaciones para muro de hormigón, CÓDIGO: LAV-31-0222, incluye Monomando Lav Time CR (cromado); Monomando de lavamanos cromado sin desagüe Modelo: Time, Terminación: Cromado, Material: Latón (Cuerpo) Zinc (Manilla), Cartucho cerámico: 35mm, Incluye: fijaciones y flexible 1/2x40cm Tucai certificados, Presión de trabajo: 3 BAR, Consumo: 12-16 lt x min, Código: SKU: GKL-03-0433, junto a ello instalar Manecilla Gerontológica; Manecilla Gerontológica universal, Material maneta: Zinc, Terminación: Cromo, Peso: 144 gr, Sifon Cromado con descarga a muro, llave de paso individual, fittings.', measurements={'length': 0.0, 'width': 0.0, 'height': 0.0}, quantity=1),\n",
       " Item(name='Lavadero de 18 Litros modelo 18LT-N', brand='Incepa', specifications='loza vitrificada (capacidad máxima 31 litros), instalado sobre atril metálico perfil 20x30, se consulta sifón y llave cuello de cisne con monomando modelo Concept Marca Klipen', measurements={'length': 0.0, 'width': 0.0, 'height': 0.0}, quantity=2),\n",
       " Item(name='Gabinete Red Húmeda', brand='', specifications='70x70x35cm', measurements={'length': 0.0, 'width': 0.0, 'height': 0.0}, quantity=1),\n",
       " Item(name='Manguera Contra Incendio', brand='ANGUS', specifications='carrete automático porta manguera tipo ANGUS MK-2 tubular de goma con refuerzo textil para alta presión, de 1” de diámetro y 25 mts. de longitud, pitón de alto impacto, regulable para chorro, lluvia y corte, válvula automática y brazo direccional. Caja porta carrete, sobrepuesta y apernada al muro, en plancha de fierro de 1,0 mm revestida interior y exteriormente con pintura esmaltada al fuego. Incluye puerta vidriada, con retén magnético, manilla bronceada, bisagra y demás accesorios que permitan un correcto y rápido funcionamiento.', measurements={'length': 0.0, 'width': 0.0, 'height': 0.0}, quantity=1)]"
      ]
     },
     "execution_count": 43,
     "metadata": {},
     "output_type": "execute_result"
    }
   ],
   "source": [
    "sample_results_list"
   ]
  },
  {
   "cell_type": "code",
   "execution_count": 39,
   "metadata": {},
   "outputs": [
    {
     "data": {
      "text/plain": [
       "{'length': 0.0, 'width': 0.0, 'height': 0.0}"
      ]
     },
     "execution_count": 39,
     "metadata": {},
     "output_type": "execute_result"
    }
   ],
   "source": [
    "sample_results.measurements"
   ]
  },
  {
   "cell_type": "code",
   "execution_count": 46,
   "metadata": {},
   "outputs": [],
   "source": [
    "import pandas as pd\n",
    "\n",
    "df = pd.DataFrame([{\n",
    "    'name': result.name,\n",
    "    'brand': result.brand, \n",
    "    'specifications': result.specifications,\n",
    "    'length': result.measurements['length'],\n",
    "    'width': result.measurements['width'], \n",
    "    'height': result.measurements['height'],\n",
    "    'quantity': result.quantity\n",
    "} for result in sample_results_list])"
   ]
  },
  {
   "cell_type": "code",
   "execution_count": 47,
   "metadata": {},
   "outputs": [
    {
     "data": {
      "text/html": [
       "<div>\n",
       "<style scoped>\n",
       "    .dataframe tbody tr th:only-of-type {\n",
       "        vertical-align: middle;\n",
       "    }\n",
       "\n",
       "    .dataframe tbody tr th {\n",
       "        vertical-align: top;\n",
       "    }\n",
       "\n",
       "    .dataframe thead th {\n",
       "        text-align: right;\n",
       "    }\n",
       "</style>\n",
       "<table border=\"1\" class=\"dataframe\">\n",
       "  <thead>\n",
       "    <tr style=\"text-align: right;\">\n",
       "      <th></th>\n",
       "      <th>name</th>\n",
       "      <th>brand</th>\n",
       "      <th>specifications</th>\n",
       "      <th>length</th>\n",
       "      <th>width</th>\n",
       "      <th>height</th>\n",
       "      <th>quantity</th>\n",
       "    </tr>\n",
       "  </thead>\n",
       "  <tbody>\n",
       "    <tr>\n",
       "      <th>0</th>\n",
       "      <td>Pintura exterior de muros y aleros</td>\n",
       "      <td>Ceresita</td>\n",
       "      <td>Esmalte al agua, dos manos como mínimo, calida...</td>\n",
       "      <td>0.0</td>\n",
       "      <td>0.0</td>\n",
       "      <td>0.0</td>\n",
       "      <td>1</td>\n",
       "    </tr>\n",
       "    <tr>\n",
       "      <th>1</th>\n",
       "      <td>Espejo Cherry-N Con Bisel</td>\n",
       "      <td>KLIPEN</td>\n",
       "      <td>8 mm, Espesor: 5 mm, Fijación: Incluida, Insta...</td>\n",
       "      <td>0.0</td>\n",
       "      <td>0.0</td>\n",
       "      <td>0.0</td>\n",
       "      <td>1</td>\n",
       "    </tr>\n",
       "    <tr>\n",
       "      <th>2</th>\n",
       "      <td>Mudador</td>\n",
       "      <td>No especificado</td>\n",
       "      <td>Estructura en placa de Melamina de 24mm, MDF o...</td>\n",
       "      <td>0.0</td>\n",
       "      <td>0.0</td>\n",
       "      <td>0.0</td>\n",
       "      <td>1</td>\n",
       "    </tr>\n",
       "    <tr>\n",
       "      <th>3</th>\n",
       "      <td>Repisa</td>\n",
       "      <td>Masisa</td>\n",
       "      <td>Conformada por bastidores de perfiles metálico...</td>\n",
       "      <td>0.0</td>\n",
       "      <td>0.0</td>\n",
       "      <td>0.0</td>\n",
       "      <td>1</td>\n",
       "    </tr>\n",
       "    <tr>\n",
       "      <th>4</th>\n",
       "      <td>Campana Industrial Mural</td>\n",
       "      <td>Biggi</td>\n",
       "      <td>Formato C-150M, formatos 100x93 cm, 150x93 cm ...</td>\n",
       "      <td>0.0</td>\n",
       "      <td>0.0</td>\n",
       "      <td>0.0</td>\n",
       "      <td>1</td>\n",
       "    </tr>\n",
       "    <tr>\n",
       "      <th>5</th>\n",
       "      <td>Tineta SINGLE-N</td>\n",
       "      <td>KLIPEN</td>\n",
       "      <td>Color: Blanco, Diámetro Desagüe: 50 mm, Instal...</td>\n",
       "      <td>0.0</td>\n",
       "      <td>0.0</td>\n",
       "      <td>0.0</td>\n",
       "      <td>1</td>\n",
       "    </tr>\n",
       "    <tr>\n",
       "      <th>6</th>\n",
       "      <td>Lavamanos Comfort</td>\n",
       "      <td>KLIPEN</td>\n",
       "      <td>Loza vitrificada blanca, Incluye rebalse, Inst...</td>\n",
       "      <td>0.0</td>\n",
       "      <td>0.0</td>\n",
       "      <td>0.0</td>\n",
       "      <td>1</td>\n",
       "    </tr>\n",
       "    <tr>\n",
       "      <th>7</th>\n",
       "      <td>Lavadero de 18 Litros modelo 18LT-N</td>\n",
       "      <td>Incepa</td>\n",
       "      <td>loza vitrificada (capacidad máxima 31 litros),...</td>\n",
       "      <td>0.0</td>\n",
       "      <td>0.0</td>\n",
       "      <td>0.0</td>\n",
       "      <td>2</td>\n",
       "    </tr>\n",
       "    <tr>\n",
       "      <th>8</th>\n",
       "      <td>Gabinete Red Húmeda</td>\n",
       "      <td></td>\n",
       "      <td>70x70x35cm</td>\n",
       "      <td>0.0</td>\n",
       "      <td>0.0</td>\n",
       "      <td>0.0</td>\n",
       "      <td>1</td>\n",
       "    </tr>\n",
       "    <tr>\n",
       "      <th>9</th>\n",
       "      <td>Manguera Contra Incendio</td>\n",
       "      <td>ANGUS</td>\n",
       "      <td>carrete automático porta manguera tipo ANGUS M...</td>\n",
       "      <td>0.0</td>\n",
       "      <td>0.0</td>\n",
       "      <td>0.0</td>\n",
       "      <td>1</td>\n",
       "    </tr>\n",
       "  </tbody>\n",
       "</table>\n",
       "</div>"
      ],
      "text/plain": [
       "                                  name            brand  \\\n",
       "0   Pintura exterior de muros y aleros         Ceresita   \n",
       "1            Espejo Cherry-N Con Bisel           KLIPEN   \n",
       "2                              Mudador  No especificado   \n",
       "3                               Repisa           Masisa   \n",
       "4             Campana Industrial Mural            Biggi   \n",
       "5                      Tineta SINGLE-N           KLIPEN   \n",
       "6                    Lavamanos Comfort           KLIPEN   \n",
       "7  Lavadero de 18 Litros modelo 18LT-N           Incepa   \n",
       "8                  Gabinete Red Húmeda                    \n",
       "9             Manguera Contra Incendio            ANGUS   \n",
       "\n",
       "                                      specifications  length  width  height  \\\n",
       "0  Esmalte al agua, dos manos como mínimo, calida...     0.0    0.0     0.0   \n",
       "1  8 mm, Espesor: 5 mm, Fijación: Incluida, Insta...     0.0    0.0     0.0   \n",
       "2  Estructura en placa de Melamina de 24mm, MDF o...     0.0    0.0     0.0   \n",
       "3  Conformada por bastidores de perfiles metálico...     0.0    0.0     0.0   \n",
       "4  Formato C-150M, formatos 100x93 cm, 150x93 cm ...     0.0    0.0     0.0   \n",
       "5  Color: Blanco, Diámetro Desagüe: 50 mm, Instal...     0.0    0.0     0.0   \n",
       "6  Loza vitrificada blanca, Incluye rebalse, Inst...     0.0    0.0     0.0   \n",
       "7  loza vitrificada (capacidad máxima 31 litros),...     0.0    0.0     0.0   \n",
       "8                                         70x70x35cm     0.0    0.0     0.0   \n",
       "9  carrete automático porta manguera tipo ANGUS M...     0.0    0.0     0.0   \n",
       "\n",
       "   quantity  \n",
       "0         1  \n",
       "1         1  \n",
       "2         1  \n",
       "3         1  \n",
       "4         1  \n",
       "5         1  \n",
       "6         1  \n",
       "7         2  \n",
       "8         1  \n",
       "9         1  "
      ]
     },
     "execution_count": 47,
     "metadata": {},
     "output_type": "execute_result"
    }
   ],
   "source": [
    "df"
   ]
  },
  {
   "cell_type": "code",
   "execution_count": null,
   "metadata": {},
   "outputs": [],
   "source": []
  }
 ],
 "metadata": {
  "kernelspec": {
   "display_name": ".venv",
   "language": "python",
   "name": "python3"
  },
  "language_info": {
   "codemirror_mode": {
    "name": "ipython",
    "version": 3
   },
   "file_extension": ".py",
   "mimetype": "text/x-python",
   "name": "python",
   "nbconvert_exporter": "python",
   "pygments_lexer": "ipython3",
   "version": "3.11.6"
  }
 },
 "nbformat": 4,
 "nbformat_minor": 2
}
