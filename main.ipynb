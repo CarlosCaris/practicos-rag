{
 "cells": [
  {
   "cell_type": "code",
   "execution_count": 4,
   "metadata": {},
   "outputs": [],
   "source": [
    "import pickle\n",
    "from src.retrievers.rag_retriever import create_rag_chain\n",
    "import os"
   ]
  },
  {
   "cell_type": "code",
   "execution_count": 5,
   "metadata": {},
   "outputs": [
    {
     "name": "stdout",
     "output_type": "stream",
     "text": [
      "Respuesta: The information that must be submitted to the ACE system for electronic entry of FDA-regulated products includes FDA Country of Production, Complete FDA Product Code, and Full Intended Use Code. This information is necessary for articles regulated by FDA such as food contact substances, drugs, biological products, and medical devices. Importer of record contact information, such as telephone and email address, must also be provided.\n"
     ]
    }
   ],
   "source": [
    "openai_api_key = os.environ.get(\"OPENAI_API_KEY\")\n",
    "\n",
    "with open('qdrant_store.pkl', 'rb') as f:\n",
    "    qdrant_loaded = pickle.load(f)\n",
    "\n",
    "rag_chain = create_rag_chain(\"gpt-3.5-turbo\", openai_api_key, qdrant_loaded)\n",
    "\n",
    "question = \"What information must be submitted to the ACE system for electronic entry of FDA-regulated products according to Section 1.72?\"\n",
    "response = rag_chain.invoke(question)\n",
    "print(\"Respuesta:\", response)"
   ]
  }
 ],
 "metadata": {
  "kernelspec": {
   "display_name": ".venv",
   "language": "python",
   "name": "python3"
  },
  "language_info": {
   "codemirror_mode": {
    "name": "ipython",
    "version": 3
   },
   "file_extension": ".py",
   "mimetype": "text/x-python",
   "name": "python",
   "nbconvert_exporter": "python",
   "pygments_lexer": "ipython3",
   "version": "3.11.6"
  }
 },
 "nbformat": 4,
 "nbformat_minor": 2
}
