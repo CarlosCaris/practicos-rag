{
 "cells": [
  {
   "cell_type": "markdown",
   "metadata": {},
   "source": [
    "# GOAL\n",
    "\n",
    "- Evaluar el rendimiento del pipeline RAG **baseline**\n",
    "- Evaluar el rendimiento del pipeline RAG **con reranker**\n",
    "\n",
    "Utilizaremos la librería [`ragas`](https://docs.ragas.io/en/latest/getstarted/) para evaluar el rendimiento del pipeline RAG.\n",
    "y la librería [`Reranker`](https://github.com/AnswerDotAI/rerankers) para reordenar los documentos relevantes.\n"
   ]
  },
  {
   "cell_type": "code",
   "execution_count": 2,
   "metadata": {},
   "outputs": [
    {
     "data": {
      "text/plain": [
       "True"
      ]
     },
     "execution_count": 2,
     "metadata": {},
     "output_type": "execute_result"
    }
   ],
   "source": [
    "from dotenv import load_dotenv\n",
    "load_dotenv()"
   ]
  },
  {
   "cell_type": "code",
   "execution_count": 3,
   "metadata": {},
   "outputs": [],
   "source": [
    "from langchain_community.document_loaders import PyPDFLoader\n",
    "from dotenv import load_dotenv\n",
    "\n",
    "load_dotenv()\n",
    "\n",
    "file_path = (\n",
    "    \"../practicos-rag/data/benchmark_data/Reglamento 1333 2008.pdf\"\n",
    ")\n",
    "loader = PyPDFLoader(file_path)\n",
    "docs = loader.load()"
   ]
  },
  {
   "cell_type": "code",
   "execution_count": 4,
   "metadata": {},
   "outputs": [],
   "source": [
    "from langchain_text_splitters import RecursiveCharacterTextSplitter\n",
    "\n",
    "text_splitter = RecursiveCharacterTextSplitter(chunk_size=250, chunk_overlap=50)\n",
    "splits = text_splitter.split_documents(docs)"
   ]
  },
  {
   "cell_type": "code",
   "execution_count": 5,
   "metadata": {},
   "outputs": [],
   "source": [
    "from langchain_ollama import OllamaEmbeddings\n",
    "from langchain_openai import OpenAIEmbeddings\n",
    "import os\n",
    "#embeddings = OllamaEmbeddings(model=\"llama3\")\n",
    "embeddings = OpenAIEmbeddings(model=\"text-embedding-3-small\")"
   ]
  },
  {
   "cell_type": "code",
   "execution_count": 6,
   "metadata": {},
   "outputs": [],
   "source": [
    "from langchain_qdrant import QdrantVectorStore\n",
    "from langchain_qdrant import RetrievalMode\n",
    "\n",
    "qdrant = QdrantVectorStore.from_documents(\n",
    "    splits,\n",
    "    embedding=embeddings,\n",
    "    location=\":memory:\",\n",
    "    collection_name=\"my_documents\",\n",
    "    retrieval_mode=RetrievalMode.DENSE,\n",
    ")"
   ]
  },
  {
   "cell_type": "code",
   "execution_count": 7,
   "metadata": {},
   "outputs": [],
   "source": [
    "retriever = qdrant.as_retriever()"
   ]
  },
  {
   "cell_type": "code",
   "execution_count": 8,
   "metadata": {},
   "outputs": [],
   "source": [
    "from langchain.prompts import ChatPromptTemplate\n",
    "from langchain.schema.runnable import RunnablePassthrough\n",
    "from langchain.schema.output_parser import StrOutputParser\n",
    "from langchain_ollama import OllamaLLM\n",
    "from langchain_openai import ChatOpenAI\n",
    "\n",
    "\n",
    "llm = ChatOpenAI(model=\"gpt-4-turbo-preview\") \n",
    "\n",
    "# Define prompt template\n",
    "template = \"\"\"Utilize the retrieved context below to answer the question.\n",
    "If you're unsure of the answer, simply state you don't know and apologies\n",
    "Keep your response concise, limited to two sentences.\n",
    "Question: {question}\n",
    "Context: {context}\n",
    "\"\"\"\n",
    "\n",
    "prompt = ChatPromptTemplate.from_template(template)\n",
    "\n",
    "# Setup RAG pipeline\n",
    "rag_chain = (\n",
    "    {\"context\": retriever,  \"question\": RunnablePassthrough()} \n",
    "    | prompt \n",
    "    | llm\n",
    "    | StrOutputParser() \n",
    ")"
   ]
  },
  {
   "cell_type": "code",
   "execution_count": 9,
   "metadata": {},
   "outputs": [
    {
     "data": {
      "text/plain": [
       "'The purpose of Regulation (EC) No 1333/2008 is to lay down rules on food additives used in foods with the aim of ensuring food safety and protection for consumers.'"
      ]
     },
     "execution_count": 9,
     "metadata": {},
     "output_type": "execute_result"
    }
   ],
   "source": [
    "rag_chain.invoke(\"What is the purpose of the regulation?\")"
   ]
  },
  {
   "cell_type": "markdown",
   "metadata": {},
   "source": [
    "## Creación del dataset de preguntas y respuestas"
   ]
  },
  {
   "cell_type": "code",
   "execution_count": 10,
   "metadata": {},
   "outputs": [],
   "source": [
    "QA_generation_prompt = ChatPromptTemplate.from_template(\"\"\"\n",
    "Your task is to write a factoid question and an answer given a context.\n",
    "Your factoid question should be answerable with a specific, concise piece of factual information from the context.\n",
    "Your factoid question should be formulated in the same style as questions users could ask in a search engine.\n",
    "This means that your factoid question MUST NOT mention something like \"according to the passage\" or \"context\".\n",
    "\n",
    "Provide your answer as follows:\n",
    "\n",
    "Output:::\n",
    "Factoid question: (your factoid question)\n",
    "Answer: (your answer to the factoid question)\n",
    "\n",
    "Now here is the context.\n",
    "\n",
    "Context: {context}\n",
    "Output:::\"\"\")\n",
    "\n",
    "# Crear una cadena para crear una pregunta\n",
    "question_chain = (\n",
    "    {\"context\": RunnablePassthrough()}\n",
    "    | QA_generation_prompt\n",
    "    | llm\n",
    "    | StrOutputParser()\n",
    ")"
   ]
  },
  {
   "cell_type": "markdown",
   "metadata": {},
   "source": [
    "### Obtener una muestra aleatoria de documentos"
   ]
  },
  {
   "cell_type": "code",
   "execution_count": 11,
   "metadata": {},
   "outputs": [],
   "source": [
    "import random\n",
    "from tqdm import tqdm\n",
    "\n",
    "sampled_docs = random.sample(docs, 15)\n",
    "sampled_docs_processed = [doc.page_content for doc in sampled_docs]"
   ]
  },
  {
   "cell_type": "markdown",
   "metadata": {},
   "source": [
    "#### Generar preguntas y respuestas"
   ]
  },
  {
   "cell_type": "code",
   "execution_count": 12,
   "metadata": {},
   "outputs": [
    {
     "name": "stderr",
     "output_type": "stream",
     "text": [
      "100%|██████████| 15/15 [00:28<00:00,  1.88s/it]\n"
     ]
    }
   ],
   "source": [
    "\n",
    "questions = [question_chain.invoke({\"context\": sampled_context}) for sampled_context in tqdm(sampled_docs_processed)]"
   ]
  },
  {
   "cell_type": "code",
   "execution_count": 13,
   "metadata": {},
   "outputs": [
    {
     "data": {
      "text/plain": [
       "['Factoid question: What document number is associated with the regulation of the European Parliament and of the Council mentioned in the context?\\nAnswer: EC No 1333/2008',\n",
       " 'Factoid question: What is the code for Sodium metabisulphite according to Regulation (EC) No 1333/2008?\\nAnswer: E 223',\n",
       " 'Factoid question: What is the maximum level of E 459 Beta-cyclodextrin allowed in flavoured teas?\\nAnswer: 500 mg/l in final food',\n",
       " 'Factoid question: What is the maximum level of propane-1, 2-diol (propylene glycol) allowed in final food products according to Regulation (EC) No 1333/2008?\\nAnswer: 1 000 mg/kg',\n",
       " 'Factoid question: What is the E number for Calcium ascorbate?\\nAnswer: E 302',\n",
       " 'Factoid question: What is the main purpose of Regulation (EC) No 1333/2008?\\nAnswer: The main purpose of Regulation (EC) No 1333/2008 is to lay down rules on food additives used in foods to ensure the effective functioning of the market while ensuring a high level of protection of human health and consumer protection.',\n",
       " 'Factoid question: What is the deadline for foods labelled before 20 January 2010 that do not comply with Article 22(1)(i) and (4) of Regulation (EC) No 1333/2008 to be marketed until?\\nAnswer: Their date of minimum durability or use-by-date.',\n",
       " 'Factoid question: What is the E-number for Xylitol according to Regulation (EC) No 1333/2008?\\nAnswer: E 967',\n",
       " 'Factoid question: When were the words in Articles 12 and 13 of Regulation (EC) No 1333/2008 substituted according to The Food Additives, Flavourings, Enzymes and Extraction Solvents (Amendment etc.) (EU Exit) Regulations 2019?\\nAnswer: 31.12.2020',\n",
       " 'Factoid question: What Commission Regulation amended Annex II to Regulation (EC) No 1333/2008 regarding aluminium-containing food additives?\\nAnswer: Commission Regulation (EU) No 380/2012 of 3 May 2012.',\n",
       " 'Factoid question: When was Regulation (EC) No 1333/2008 of the European Parliament and of the Council documented?\\nAnswer: 2023-12-07',\n",
       " 'Factoid question: Until what date were aluminium lakes prepared from all colours listed in Table 1 of Part B authorised according to Regulation (EC) No 1333/2008?\\nAnswer: 31 July 2014',\n",
       " 'Factoid question: When was Commission Regulation (EU) No 231/2012, related to specifications for food additives listed in Annexes II and III to Regulation (EC) No 1333/2008, laid down?\\nAnswer: 9 March 2012',\n",
       " 'Factoid question: What is the E-number for Sorbic acid according to Regulation (EC) No 1333/2008?\\nAnswer: E 200',\n",
       " 'Factoid question: What food colours listed in Regulation (EC) No 1333/2008 are noted for possibly having an adverse effect on activity and attention in children?\\nAnswer: Sunset yellow (E 110), Quinoline yellow (E 104), Carmoisine (E 122), Allura red (E 129), Tartrazine (E 102), Ponceau 4R (E 124)']"
      ]
     },
     "execution_count": 13,
     "metadata": {},
     "output_type": "execute_result"
    }
   ],
   "source": [
    "questions"
   ]
  },
  {
   "cell_type": "code",
   "execution_count": 14,
   "metadata": {},
   "outputs": [],
   "source": [
    "questions_processed = []\n",
    "ground_truth = []\n",
    "for question in questions:\n",
    "    questions_processed.append(question.split(\"Factoid question: \")[-1].split(\"Answer: \")[0])\n",
    "    ground_truth.append(question.split(\"Factoid question: \")[-1].split(\"Answer: \")[1])"
   ]
  },
  {
   "cell_type": "code",
   "execution_count": 15,
   "metadata": {},
   "outputs": [
    {
     "data": {
      "text/plain": [
       "['What document number is associated with the regulation of the European Parliament and of the Council mentioned in the context?\\n',\n",
       " 'What is the code for Sodium metabisulphite according to Regulation (EC) No 1333/2008?\\n',\n",
       " 'What is the maximum level of E 459 Beta-cyclodextrin allowed in flavoured teas?\\n',\n",
       " 'What is the maximum level of propane-1, 2-diol (propylene glycol) allowed in final food products according to Regulation (EC) No 1333/2008?\\n',\n",
       " 'What is the E number for Calcium ascorbate?\\n',\n",
       " 'What is the main purpose of Regulation (EC) No 1333/2008?\\n',\n",
       " 'What is the deadline for foods labelled before 20 January 2010 that do not comply with Article 22(1)(i) and (4) of Regulation (EC) No 1333/2008 to be marketed until?\\n',\n",
       " 'What is the E-number for Xylitol according to Regulation (EC) No 1333/2008?\\n',\n",
       " 'When were the words in Articles 12 and 13 of Regulation (EC) No 1333/2008 substituted according to The Food Additives, Flavourings, Enzymes and Extraction Solvents (Amendment etc.) (EU Exit) Regulations 2019?\\n',\n",
       " 'What Commission Regulation amended Annex II to Regulation (EC) No 1333/2008 regarding aluminium-containing food additives?\\n',\n",
       " 'When was Regulation (EC) No 1333/2008 of the European Parliament and of the Council documented?\\n',\n",
       " 'Until what date were aluminium lakes prepared from all colours listed in Table 1 of Part B authorised according to Regulation (EC) No 1333/2008?\\n',\n",
       " 'When was Commission Regulation (EU) No 231/2012, related to specifications for food additives listed in Annexes II and III to Regulation (EC) No 1333/2008, laid down?\\n',\n",
       " 'What is the E-number for Sorbic acid according to Regulation (EC) No 1333/2008?\\n',\n",
       " 'What food colours listed in Regulation (EC) No 1333/2008 are noted for possibly having an adverse effect on activity and attention in children?\\n']"
      ]
     },
     "execution_count": 15,
     "metadata": {},
     "output_type": "execute_result"
    }
   ],
   "source": [
    "questions_processed"
   ]
  },
  {
   "cell_type": "code",
   "execution_count": 16,
   "metadata": {},
   "outputs": [
    {
     "data": {
      "text/plain": [
       "['EC No 1333/2008',\n",
       " 'E 223',\n",
       " '500 mg/l in final food',\n",
       " '1 000 mg/kg',\n",
       " 'E 302',\n",
       " 'The main purpose of Regulation (EC) No 1333/2008 is to lay down rules on food additives used in foods to ensure the effective functioning of the market while ensuring a high level of protection of human health and consumer protection.',\n",
       " 'Their date of minimum durability or use-by-date.',\n",
       " 'E 967',\n",
       " '31.12.2020',\n",
       " 'Commission Regulation (EU) No 380/2012 of 3 May 2012.',\n",
       " '2023-12-07',\n",
       " '31 July 2014',\n",
       " '9 March 2012',\n",
       " 'E 200',\n",
       " 'Sunset yellow (E 110), Quinoline yellow (E 104), Carmoisine (E 122), Allura red (E 129), Tartrazine (E 102), Ponceau 4R (E 124)']"
      ]
     },
     "execution_count": 16,
     "metadata": {},
     "output_type": "execute_result"
    }
   ],
   "source": [
    "ground_truth"
   ]
  },
  {
   "cell_type": "code",
   "execution_count": 17,
   "metadata": {},
   "outputs": [
    {
     "name": "stderr",
     "output_type": "stream",
     "text": [
      "/var/folders/p9/dtzw1bk549g0ft33yw9bnbpc0000gq/T/ipykernel_4980/2952356377.py:7: LangChainDeprecationWarning: The method `BaseRetriever.get_relevant_documents` was deprecated in langchain-core 0.1.46 and will be removed in 1.0. Use :meth:`~invoke` instead.\n",
      "  contexts.append([docs.page_content for docs in retriever.get_relevant_documents(query)])\n"
     ]
    }
   ],
   "source": [
    "# Parsear preguntas y respuestas\n",
    "contexts = []\n",
    "answers = []\n",
    "# Inferencia\n",
    "for query in questions_processed:\n",
    "    answers.append(rag_chain.invoke(query))\n",
    "    contexts.append([docs.page_content for docs in retriever.get_relevant_documents(query)])\n"
   ]
  },
  {
   "cell_type": "code",
   "execution_count": 18,
   "metadata": {},
   "outputs": [],
   "source": [
    "data = {\n",
    "    \"question\": questions,\n",
    "    \"answer\": answers,\n",
    "    \"reference\": ground_truth,\n",
    "    \"retrieved_contexts\": contexts\n",
    "}"
   ]
  },
  {
   "cell_type": "code",
   "execution_count": 19,
   "metadata": {},
   "outputs": [],
   "source": [
    "from datasets import Dataset\n",
    "\n",
    "# Convert dict to dataset\n",
    "dataset = Dataset.from_dict(data)"
   ]
  },
  {
   "cell_type": "code",
   "execution_count": 20,
   "metadata": {},
   "outputs": [],
   "source": [
    "from ragas import evaluate\n",
    "from ragas.metrics import (\n",
    "    faithfulness,\n",
    "    answer_relevancy,\n",
    "    context_recall,\n",
    "    context_precision,\n",
    ")"
   ]
  },
  {
   "cell_type": "code",
   "execution_count": 21,
   "metadata": {},
   "outputs": [
    {
     "data": {
      "application/vnd.jupyter.widget-view+json": {
       "model_id": "4f2c891aced54c6194377985fcaad0cb",
       "version_major": 2,
       "version_minor": 0
      },
      "text/plain": [
       "Evaluating:   0%|          | 0/60 [00:00<?, ?it/s]"
      ]
     },
     "metadata": {},
     "output_type": "display_data"
    },
    {
     "name": "stderr",
     "output_type": "stream",
     "text": [
      "Exception raised in Job[36]: RateLimitError(Error code: 429 - {'error': {'message': 'Rate limit reached for gpt-4-turbo-preview in organization org-1IccE2reLGyjkhxuj0CwkN90 on tokens per min (TPM): Limit 30000, Used 29902, Requested 1216. Please try again in 2.236s. Visit https://platform.openai.com/account/rate-limits to learn more.', 'type': 'tokens', 'param': None, 'code': 'rate_limit_exceeded'}})\n",
      "Exception raised in Job[32]: TimeoutError()\n"
     ]
    },
    {
     "data": {
      "text/html": [
       "<div>\n",
       "<style scoped>\n",
       "    .dataframe tbody tr th:only-of-type {\n",
       "        vertical-align: middle;\n",
       "    }\n",
       "\n",
       "    .dataframe tbody tr th {\n",
       "        vertical-align: top;\n",
       "    }\n",
       "\n",
       "    .dataframe thead th {\n",
       "        text-align: right;\n",
       "    }\n",
       "</style>\n",
       "<table border=\"1\" class=\"dataframe\">\n",
       "  <thead>\n",
       "    <tr style=\"text-align: right;\">\n",
       "      <th></th>\n",
       "      <th>user_input</th>\n",
       "      <th>retrieved_contexts</th>\n",
       "      <th>response</th>\n",
       "      <th>reference</th>\n",
       "      <th>context_recall</th>\n",
       "      <th>faithfulness</th>\n",
       "      <th>answer_relevancy</th>\n",
       "      <th>context_precision</th>\n",
       "    </tr>\n",
       "  </thead>\n",
       "  <tbody>\n",
       "    <tr>\n",
       "      <th>0</th>\n",
       "      <td>Factoid question: What document number is asso...</td>\n",
       "      <td>[Regulation (EC) No 1333/2008 of the European ...</td>\n",
       "      <td>The document number associated with the regula...</td>\n",
       "      <td>EC No 1333/2008</td>\n",
       "      <td>1.0</td>\n",
       "      <td>1.000000</td>\n",
       "      <td>0.752113</td>\n",
       "      <td>1.000000</td>\n",
       "    </tr>\n",
       "    <tr>\n",
       "      <th>1</th>\n",
       "      <td>Factoid question: What is the code for Sodium ...</td>\n",
       "      <td>[European Parliament and of the Council. Any c...</td>\n",
       "      <td>The code for Sodium metabisulphite according t...</td>\n",
       "      <td>E 223</td>\n",
       "      <td>1.0</td>\n",
       "      <td>1.000000</td>\n",
       "      <td>0.885014</td>\n",
       "      <td>1.000000</td>\n",
       "    </tr>\n",
       "    <tr>\n",
       "      <th>2</th>\n",
       "      <td>Factoid question: What is the maximum level of...</td>\n",
       "      <td>[foodE 459Beta-cyclodextrinEncapsulated flavou...</td>\n",
       "      <td>The maximum level of E 459 Beta-cyclodextrin a...</td>\n",
       "      <td>500 mg/l in final food</td>\n",
       "      <td>1.0</td>\n",
       "      <td>1.000000</td>\n",
       "      <td>0.903697</td>\n",
       "      <td>0.833333</td>\n",
       "    </tr>\n",
       "    <tr>\n",
       "      <th>3</th>\n",
       "      <td>Factoid question: What is the maximum level of...</td>\n",
       "      <td>[E 1520 shall be 1 000 mg/l from all sources.E...</td>\n",
       "      <td>The maximum level of propane-1, 2-diol (propyl...</td>\n",
       "      <td>1 000 mg/kg</td>\n",
       "      <td>1.0</td>\n",
       "      <td>0.500000</td>\n",
       "      <td>0.870294</td>\n",
       "      <td>1.000000</td>\n",
       "    </tr>\n",
       "    <tr>\n",
       "      <th>4</th>\n",
       "      <td>Factoid question: What is the E number for Cal...</td>\n",
       "      <td>[E 302 Calcium ascorbate\\nE 304 Fatty acid est...</td>\n",
       "      <td>The E number for Calcium ascorbate is E 302.</td>\n",
       "      <td>E 302</td>\n",
       "      <td>1.0</td>\n",
       "      <td>1.000000</td>\n",
       "      <td>0.863201</td>\n",
       "      <td>0.805556</td>\n",
       "    </tr>\n",
       "    <tr>\n",
       "      <th>5</th>\n",
       "      <td>Factoid question: What is the main purpose of ...</td>\n",
       "      <td>[Regulation (EC) No 1333/2008 of the European ...</td>\n",
       "      <td>I'm sorry, but based on the provided context, ...</td>\n",
       "      <td>The main purpose of Regulation (EC) No 1333/20...</td>\n",
       "      <td>0.0</td>\n",
       "      <td>0.000000</td>\n",
       "      <td>0.000000</td>\n",
       "      <td>0.000000</td>\n",
       "    </tr>\n",
       "    <tr>\n",
       "      <th>6</th>\n",
       "      <td>Factoid question: What is the deadline for foo...</td>\n",
       "      <td>[with Article 22(1)(i) and (4) may be marketed...</td>\n",
       "      <td>Foods labelled before 20 January 2010 that do ...</td>\n",
       "      <td>Their date of minimum durability or use-by-date.</td>\n",
       "      <td>1.0</td>\n",
       "      <td>0.666667</td>\n",
       "      <td>0.763349</td>\n",
       "      <td>0.750000</td>\n",
       "    </tr>\n",
       "    <tr>\n",
       "      <th>7</th>\n",
       "      <td>Factoid question: What is the E-number for Xyl...</td>\n",
       "      <td>[E 965 Maltitols\\nE 966 Lactitol\\nE 967 Xylito...</td>\n",
       "      <td>The E-number for Xylitol according to Regulati...</td>\n",
       "      <td>E 967</td>\n",
       "      <td>1.0</td>\n",
       "      <td>1.000000</td>\n",
       "      <td>0.849066</td>\n",
       "      <td>1.000000</td>\n",
       "    </tr>\n",
       "    <tr>\n",
       "      <th>8</th>\n",
       "      <td>Factoid question: When were the words in Artic...</td>\n",
       "      <td>[Directive 89/398/EEC.\\nTextual Amendments\\nF1...</td>\n",
       "      <td>I don't know.</td>\n",
       "      <td>31.12.2020</td>\n",
       "      <td>NaN</td>\n",
       "      <td>0.000000</td>\n",
       "      <td>0.000000</td>\n",
       "      <td>1.000000</td>\n",
       "    </tr>\n",
       "    <tr>\n",
       "      <th>9</th>\n",
       "      <td>Factoid question: What Commission Regulation a...</td>\n",
       "      <td>[Annexes II and III to Regulation (EC) No 1333...</td>\n",
       "      <td>Commission Regulation (EU) No 1130/2011 of 11 ...</td>\n",
       "      <td>Commission Regulation (EU) No 380/2012 of 3 Ma...</td>\n",
       "      <td>NaN</td>\n",
       "      <td>0.000000</td>\n",
       "      <td>0.543782</td>\n",
       "      <td>0.000000</td>\n",
       "    </tr>\n",
       "    <tr>\n",
       "      <th>10</th>\n",
       "      <td>Factoid question: When was Regulation (EC) No ...</td>\n",
       "      <td>[2 Regulation (EC) No 1333/2008 of the Europea...</td>\n",
       "      <td>I don't know.</td>\n",
       "      <td>2023-12-07</td>\n",
       "      <td>0.0</td>\n",
       "      <td>0.000000</td>\n",
       "      <td>0.000000</td>\n",
       "      <td>1.000000</td>\n",
       "    </tr>\n",
       "    <tr>\n",
       "      <th>11</th>\n",
       "      <td>Factoid question: Until what date were alumini...</td>\n",
       "      <td>[Part C of this Annex.\\n[F504. Aluminium lakes...</td>\n",
       "      <td>Aluminium lakes prepared from all colours list...</td>\n",
       "      <td>31 July 2014</td>\n",
       "      <td>1.0</td>\n",
       "      <td>1.000000</td>\n",
       "      <td>0.855918</td>\n",
       "      <td>1.000000</td>\n",
       "    </tr>\n",
       "    <tr>\n",
       "      <th>12</th>\n",
       "      <td>Factoid question: When was Commission Regulati...</td>\n",
       "      <td>[(32) OJ L 186, 30.6.1989, p. 21.\\n(33) [F46[F...</td>\n",
       "      <td>Commission Regulation (EU) No 231/2012 was lai...</td>\n",
       "      <td>9 March 2012</td>\n",
       "      <td>1.0</td>\n",
       "      <td>1.000000</td>\n",
       "      <td>0.670048</td>\n",
       "      <td>1.000000</td>\n",
       "    </tr>\n",
       "    <tr>\n",
       "      <th>13</th>\n",
       "      <td>Factoid question: What is the E-number for Sor...</td>\n",
       "      <td>[E 200 – 202; 214 – 219: SORBIC ACID – POTASSI...</td>\n",
       "      <td>The E-number for Sorbic acid according to Regu...</td>\n",
       "      <td>E 200</td>\n",
       "      <td>1.0</td>\n",
       "      <td>0.000000</td>\n",
       "      <td>0.888688</td>\n",
       "      <td>1.000000</td>\n",
       "    </tr>\n",
       "    <tr>\n",
       "      <th>14</th>\n",
       "      <td>Factoid question: What food colours listed in ...</td>\n",
       "      <td>[Table 2, as regards food colours.\\nTABLE 1\\nF...</td>\n",
       "      <td>I don't know, and I apologize for not being ab...</td>\n",
       "      <td>Sunset yellow (E 110), Quinoline yellow (E 104...</td>\n",
       "      <td>0.0</td>\n",
       "      <td>0.000000</td>\n",
       "      <td>0.000000</td>\n",
       "      <td>0.000000</td>\n",
       "    </tr>\n",
       "  </tbody>\n",
       "</table>\n",
       "</div>"
      ],
      "text/plain": [
       "                                           user_input  \\\n",
       "0   Factoid question: What document number is asso...   \n",
       "1   Factoid question: What is the code for Sodium ...   \n",
       "2   Factoid question: What is the maximum level of...   \n",
       "3   Factoid question: What is the maximum level of...   \n",
       "4   Factoid question: What is the E number for Cal...   \n",
       "5   Factoid question: What is the main purpose of ...   \n",
       "6   Factoid question: What is the deadline for foo...   \n",
       "7   Factoid question: What is the E-number for Xyl...   \n",
       "8   Factoid question: When were the words in Artic...   \n",
       "9   Factoid question: What Commission Regulation a...   \n",
       "10  Factoid question: When was Regulation (EC) No ...   \n",
       "11  Factoid question: Until what date were alumini...   \n",
       "12  Factoid question: When was Commission Regulati...   \n",
       "13  Factoid question: What is the E-number for Sor...   \n",
       "14  Factoid question: What food colours listed in ...   \n",
       "\n",
       "                                   retrieved_contexts  \\\n",
       "0   [Regulation (EC) No 1333/2008 of the European ...   \n",
       "1   [European Parliament and of the Council. Any c...   \n",
       "2   [foodE 459Beta-cyclodextrinEncapsulated flavou...   \n",
       "3   [E 1520 shall be 1 000 mg/l from all sources.E...   \n",
       "4   [E 302 Calcium ascorbate\\nE 304 Fatty acid est...   \n",
       "5   [Regulation (EC) No 1333/2008 of the European ...   \n",
       "6   [with Article 22(1)(i) and (4) may be marketed...   \n",
       "7   [E 965 Maltitols\\nE 966 Lactitol\\nE 967 Xylito...   \n",
       "8   [Directive 89/398/EEC.\\nTextual Amendments\\nF1...   \n",
       "9   [Annexes II and III to Regulation (EC) No 1333...   \n",
       "10  [2 Regulation (EC) No 1333/2008 of the Europea...   \n",
       "11  [Part C of this Annex.\\n[F504. Aluminium lakes...   \n",
       "12  [(32) OJ L 186, 30.6.1989, p. 21.\\n(33) [F46[F...   \n",
       "13  [E 200 – 202; 214 – 219: SORBIC ACID – POTASSI...   \n",
       "14  [Table 2, as regards food colours.\\nTABLE 1\\nF...   \n",
       "\n",
       "                                             response  \\\n",
       "0   The document number associated with the regula...   \n",
       "1   The code for Sodium metabisulphite according t...   \n",
       "2   The maximum level of E 459 Beta-cyclodextrin a...   \n",
       "3   The maximum level of propane-1, 2-diol (propyl...   \n",
       "4        The E number for Calcium ascorbate is E 302.   \n",
       "5   I'm sorry, but based on the provided context, ...   \n",
       "6   Foods labelled before 20 January 2010 that do ...   \n",
       "7   The E-number for Xylitol according to Regulati...   \n",
       "8                                       I don't know.   \n",
       "9   Commission Regulation (EU) No 1130/2011 of 11 ...   \n",
       "10                                      I don't know.   \n",
       "11  Aluminium lakes prepared from all colours list...   \n",
       "12  Commission Regulation (EU) No 231/2012 was lai...   \n",
       "13  The E-number for Sorbic acid according to Regu...   \n",
       "14  I don't know, and I apologize for not being ab...   \n",
       "\n",
       "                                            reference  context_recall  \\\n",
       "0                                     EC No 1333/2008             1.0   \n",
       "1                                               E 223             1.0   \n",
       "2                              500 mg/l in final food             1.0   \n",
       "3                                         1 000 mg/kg             1.0   \n",
       "4                                               E 302             1.0   \n",
       "5   The main purpose of Regulation (EC) No 1333/20...             0.0   \n",
       "6    Their date of minimum durability or use-by-date.             1.0   \n",
       "7                                               E 967             1.0   \n",
       "8                                          31.12.2020             NaN   \n",
       "9   Commission Regulation (EU) No 380/2012 of 3 Ma...             NaN   \n",
       "10                                         2023-12-07             0.0   \n",
       "11                                       31 July 2014             1.0   \n",
       "12                                       9 March 2012             1.0   \n",
       "13                                              E 200             1.0   \n",
       "14  Sunset yellow (E 110), Quinoline yellow (E 104...             0.0   \n",
       "\n",
       "    faithfulness  answer_relevancy  context_precision  \n",
       "0       1.000000          0.752113           1.000000  \n",
       "1       1.000000          0.885014           1.000000  \n",
       "2       1.000000          0.903697           0.833333  \n",
       "3       0.500000          0.870294           1.000000  \n",
       "4       1.000000          0.863201           0.805556  \n",
       "5       0.000000          0.000000           0.000000  \n",
       "6       0.666667          0.763349           0.750000  \n",
       "7       1.000000          0.849066           1.000000  \n",
       "8       0.000000          0.000000           1.000000  \n",
       "9       0.000000          0.543782           0.000000  \n",
       "10      0.000000          0.000000           1.000000  \n",
       "11      1.000000          0.855918           1.000000  \n",
       "12      1.000000          0.670048           1.000000  \n",
       "13      0.000000          0.888688           1.000000  \n",
       "14      0.000000          0.000000           0.000000  "
      ]
     },
     "execution_count": 21,
     "metadata": {},
     "output_type": "execute_result"
    }
   ],
   "source": [
    "result = evaluate(\n",
    "    dataset = dataset,\n",
    "    llm=llm,\n",
    "    embeddings=embeddings,\n",
    "    metrics=[\n",
    "        context_recall,\n",
    "        faithfulness,\n",
    "        answer_relevancy,\n",
    "        context_precision,\n",
    "    ],)\n",
    "\n",
    "df = result.to_pandas()\n",
    "df"
   ]
  },
  {
   "cell_type": "code",
   "execution_count": 22,
   "metadata": {},
   "outputs": [],
   "source": [
    "df.to_csv(\"baseline_ragas_results.csv\", index=False)"
   ]
  },
  {
   "cell_type": "code",
   "execution_count": 23,
   "metadata": {},
   "outputs": [
    {
     "name": "stdout",
     "output_type": "stream",
     "text": [
      "Mean Faithfulness:  0.5444\n",
      "Mean Answer relevancy:  0.5897\n",
      "Mean Context recall:  0.7692\n",
      "Mean Context precision:  0.7593\n"
     ]
    }
   ],
   "source": [
    "# get mean of the metrics column by column\n",
    "print(\"Mean Faithfulness: \", round(df[\"faithfulness\"].mean(), 4))\n",
    "print(\"Mean Answer relevancy: \", round(df[\"answer_relevancy\"].mean(), 4))\n",
    "print(\"Mean Context recall: \", round(df[\"context_recall\"].mean(), 4))\n",
    "print(\"Mean Context precision: \", round(df[\"context_precision\"].mean(), 4))\n"
   ]
  },
  {
   "cell_type": "markdown",
   "metadata": {},
   "source": [
    "## Adding a reranker step"
   ]
  },
  {
   "cell_type": "code",
   "execution_count": null,
   "metadata": {},
   "outputs": [],
   "source": [
    "query = \"What is the purpose of the regulation?\"\n",
    "\n",
    "retrieved_docs = retriever.get_relevant_documents(query, kwargs={\"k\": 10})\n"
   ]
  },
  {
   "cell_type": "code",
   "execution_count": 34,
   "metadata": {},
   "outputs": [
    {
     "data": {
      "text/plain": [
       "[(Document(metadata={'source': '../practicos-rag/data/benchmark_data/Reglamento 1333 2008.pdf', 'page': 3, '_id': 'da42de520e5e4c6ba84f2f9795589abd', '_collection_name': 'my_documents'}, page_content='Regulation and to adopt appropriate transitional measures. Since those measures are\\nof general scope and are designed to amend non-essential elements of this Regulation,'),\n",
       "  0.46665629111211765),\n",
       " (Document(metadata={'source': '../practicos-rag/data/benchmark_data/Reglamento 1333 2008.pdf', 'page': 5, '_id': '67b487e0039d4aaa8e56eda9d6dbb2a5', '_collection_name': 'my_documents'}, page_content='HAVE ADOPTED THIS REGULATION:\\nCHAPTER I\\nSUBJECT MATTER, SCOPE AND DEFINITIONS\\nArticle 1\\nSubject matter\\nThis Regulation lays down rules on food additives used in foods with a view to ensuring'),\n",
       "  0.4592167729175051),\n",
       " (Document(metadata={'source': '../practicos-rag/data/benchmark_data/Reglamento 1333 2008.pdf', 'page': 6, '_id': 'b01e219628454a078aa6a971839b0aae', '_collection_name': 'my_documents'}, page_content='Regulation (EC) No 1333/2008 of the European Parliament and of the Council of...\\nCHAPTER I\\nDocument Generated: 2023-12-07\\n7\\nChanges to legislation: There are outstanding changes not yet made to Regulation (EC) No 1333/2008 of the'),\n",
       "  0.44824345395499465),\n",
       " (Document(metadata={'source': '../practicos-rag/data/benchmark_data/Reglamento 1333 2008.pdf', 'page': 86, '_id': '6962b1e15ef4424e8f28aa0a6fb0d4cb', '_collection_name': 'my_documents'}, page_content='Regulation (EC) No 1333/2008 of the European Parliament and of the Council of...\\nDocument Generated: 2023-12-07\\n87\\nChanges to legislation: \\nThere are outstanding changes not yet made to Regulation (EC) No 1333/2008 of the European'),\n",
       "  0.4455815082650022),\n",
       " (Document(metadata={'source': '../practicos-rag/data/benchmark_data/Reglamento 1333 2008.pdf', 'page': 2, '_id': '508b5fc724d343eeaee27f091d5dc506', '_collection_name': 'my_documents'}, page_content='Regulation (EC) No 1333/2008 of the European Parliament and of the Council of...\\nDocument Generated: 2023-12-07\\n3\\nChanges to legislation: There are outstanding changes not yet made to Regulation (EC) No 1333/2008 of the'),\n",
       "  0.43997158213412935),\n",
       " (Document(metadata={'source': '../practicos-rag/data/benchmark_data/Reglamento 1333 2008.pdf', 'page': 84, '_id': '86ef443232814576b38dbec91f7886c5', '_collection_name': 'my_documents'}, page_content='Regulation (EC) No 1333/2008 of the European Parliament and of the Council of...\\nDocument Generated: 2023-12-07\\n85\\nChanges to legislation: There are outstanding changes not yet made to Regulation (EC) No 1333/2008 of the'),\n",
       "  0.43618690682780487),\n",
       " (Document(metadata={'source': '../practicos-rag/data/benchmark_data/Reglamento 1333 2008.pdf', 'page': 18, '_id': 'db5f85e204a640268980b02677de851b', '_collection_name': 'my_documents'}, page_content='Regulation (EC) No 1333/2008 of the European Parliament and of the Council of...\\nCHAPTER IV\\nDocument Generated: 2023-12-07\\n19\\nChanges to legislation: There are outstanding changes not yet made to Regulation (EC) No 1333/2008 of the'),\n",
       "  0.4351314150434276),\n",
       " (Document(metadata={'source': '../practicos-rag/data/benchmark_data/Reglamento 1333 2008.pdf', 'page': 80, '_id': 'e5e925cb8495437b8de57279dbf6b18d', '_collection_name': 'my_documents'}, page_content='Regulation (EC) No 1333/2008 of the European Parliament and of the Council of...\\nANNEX III PART 3\\nDocument Generated: 2023-12-07\\n81\\nChanges to legislation: There are outstanding changes not yet made to Regulation (EC) No 1333/2008 of the'),\n",
       "  0.4339647949827283),\n",
       " (Document(metadata={'source': '../practicos-rag/data/benchmark_data/Reglamento 1333 2008.pdf', 'page': 4, '_id': '71f12cf2f61f40a6b3d980f029dc3e8c', '_collection_name': 'my_documents'}, page_content='Regulation (EC) No 1333/2008 of the European Parliament and of the Council of...\\nDocument Generated: 2023-12-07\\n5\\nChanges to legislation: There are outstanding changes not yet made to Regulation (EC) No 1333/2008 of the'),\n",
       "  0.4337921775740438),\n",
       " (Document(metadata={'source': '../practicos-rag/data/benchmark_data/Reglamento 1333 2008.pdf', 'page': 82, '_id': 'f80cb3abae43482a8189125668995e42', '_collection_name': 'my_documents'}, page_content='Regulation (EC) No 1333/2008 of the European Parliament and of the Council of...\\nANNEX III PART 3\\nDocument Generated: 2023-12-07\\n83\\nChanges to legislation: There are outstanding changes not yet made to Regulation (EC) No 1333/2008 of the'),\n",
       "  0.43370756410044903)]"
      ]
     },
     "execution_count": 34,
     "metadata": {},
     "output_type": "execute_result"
    }
   ],
   "source": [
    "qdrant.similarity_search_with_score(query, k=10)"
   ]
  },
  {
   "cell_type": "code",
   "execution_count": 25,
   "metadata": {},
   "outputs": [
    {
     "data": {
      "text/plain": [
       "[Document(metadata={'source': '../practicos-rag/data/benchmark_data/Reglamento 1333 2008.pdf', 'page': 3, '_id': 'da42de520e5e4c6ba84f2f9795589abd', '_collection_name': 'my_documents'}, page_content='Regulation and to adopt appropriate transitional measures. Since those measures are\\nof general scope and are designed to amend non-essential elements of this Regulation,'),\n",
       " Document(metadata={'source': '../practicos-rag/data/benchmark_data/Reglamento 1333 2008.pdf', 'page': 5, '_id': '67b487e0039d4aaa8e56eda9d6dbb2a5', '_collection_name': 'my_documents'}, page_content='HAVE ADOPTED THIS REGULATION:\\nCHAPTER I\\nSUBJECT MATTER, SCOPE AND DEFINITIONS\\nArticle 1\\nSubject matter\\nThis Regulation lays down rules on food additives used in foods with a view to ensuring'),\n",
       " Document(metadata={'source': '../practicos-rag/data/benchmark_data/Reglamento 1333 2008.pdf', 'page': 6, '_id': 'b01e219628454a078aa6a971839b0aae', '_collection_name': 'my_documents'}, page_content='Regulation (EC) No 1333/2008 of the European Parliament and of the Council of...\\nCHAPTER I\\nDocument Generated: 2023-12-07\\n7\\nChanges to legislation: There are outstanding changes not yet made to Regulation (EC) No 1333/2008 of the'),\n",
       " Document(metadata={'source': '../practicos-rag/data/benchmark_data/Reglamento 1333 2008.pdf', 'page': 86, '_id': '6962b1e15ef4424e8f28aa0a6fb0d4cb', '_collection_name': 'my_documents'}, page_content='Regulation (EC) No 1333/2008 of the European Parliament and of the Council of...\\nDocument Generated: 2023-12-07\\n87\\nChanges to legislation: \\nThere are outstanding changes not yet made to Regulation (EC) No 1333/2008 of the European')]"
      ]
     },
     "execution_count": 25,
     "metadata": {},
     "output_type": "execute_result"
    }
   ],
   "source": [
    "retrieved_docs"
   ]
  },
  {
   "cell_type": "code",
   "execution_count": 26,
   "metadata": {},
   "outputs": [],
   "source": [
    "import cohere as co\n",
    "cohere_client = co.Client(os.getenv(\"COHERE_API_KEY\"))\n",
    "def rerank_docs(query, retrieved_docs):\n",
    "    reranked_docs = cohere_client.rerank(\n",
    "        model=\"rerank-english-v3.0\",\n",
    "        query=query,\n",
    "        documents=retrieved_docs,\n",
    "        rank_fields=[\"page_content\"],\n",
    "        return_documents=True\n",
    "    )\n",
    "    return reranked_docs\n",
    "\n",
    "from rerankers import Reranker\n",
    "\n",
    "def open_source_reranker(query, retrieved_docs):\n",
    "    #reranker = Reranker('cross-encoder', verbose=0,model_type='cross-encoder')\n",
    "    reranker = Reranker(\"colbert\", verbose=0)\n",
    "    retrieved_docs = [doc.page_content for doc in retrieved_docs]\n",
    "    reranked_docs = reranker.rank(query, retrieved_docs)\n",
    "    return reranked_docs\n"
   ]
  },
  {
   "cell_type": "code",
   "execution_count": 27,
   "metadata": {},
   "outputs": [
    {
     "name": "stdout",
     "output_type": "stream",
     "text": [
      "Loading default colbert model for language en\n",
      "Default Model: colbert-ir/colbertv2.0\n",
      "Loading ColBERTRanker model colbert-ir/colbertv2.0 (this message can be suppressed by setting verbose=0)\n",
      "No device set\n",
      "Using device mps\n",
      "No dtype set\n",
      "Using dtype torch.float32\n",
      "Loading model colbert-ir/colbertv2.0, this might take a while...\n",
      "Linear Dim set to: 128 for downcasting\n"
     ]
    }
   ],
   "source": [
    "reranked_docs = open_source_reranker(query, retrieved_docs)"
   ]
  },
  {
   "cell_type": "code",
   "execution_count": 28,
   "metadata": {},
   "outputs": [
    {
     "data": {
      "text/plain": [
       "[Result(document=Document(document_type='text', text='Regulation and to adopt appropriate transitional measures. Since those measures are\\nof general scope and are designed to amend non-essential elements of this Regulation,', base64=None, image_path=None, doc_id=0, metadata={}), score=0.9069003462791443, rank=1),\n",
       " Result(document=Document(document_type='text', text='HAVE ADOPTED THIS REGULATION:\\nCHAPTER I\\nSUBJECT MATTER, SCOPE AND DEFINITIONS\\nArticle 1\\nSubject matter\\nThis Regulation lays down rules on food additives used in foods with a view to ensuring', base64=None, image_path=None, doc_id=1, metadata={}), score=0.7887976169586182, rank=2),\n",
       " Result(document=Document(document_type='text', text='Regulation (EC) No 1333/2008 of the European Parliament and of the Council of...\\nDocument Generated: 2023-12-07\\n87\\nChanges to legislation: \\nThere are outstanding changes not yet made to Regulation (EC) No 1333/2008 of the European', base64=None, image_path=None, doc_id=3, metadata={}), score=0.6367447972297668, rank=3),\n",
       " Result(document=Document(document_type='text', text='Regulation (EC) No 1333/2008 of the European Parliament and of the Council of...\\nCHAPTER I\\nDocument Generated: 2023-12-07\\n7\\nChanges to legislation: There are outstanding changes not yet made to Regulation (EC) No 1333/2008 of the', base64=None, image_path=None, doc_id=2, metadata={}), score=0.6317080855369568, rank=4)]"
      ]
     },
     "execution_count": 28,
     "metadata": {},
     "output_type": "execute_result"
    }
   ],
   "source": [
    "reranked_docs.results"
   ]
  },
  {
   "cell_type": "code",
   "execution_count": 29,
   "metadata": {},
   "outputs": [
    {
     "name": "stdout",
     "output_type": "stream",
     "text": [
      "Loading default colbert model for language en\n",
      "Default Model: colbert-ir/colbertv2.0\n",
      "Loading ColBERTRanker model colbert-ir/colbertv2.0 (this message can be suppressed by setting verbose=0)\n",
      "No device set\n",
      "Using device mps\n",
      "No dtype set\n",
      "Using dtype torch.float32\n",
      "Loading model colbert-ir/colbertv2.0, this might take a while...\n",
      "Linear Dim set to: 128 for downcasting\n",
      "Loading default colbert model for language en\n",
      "Default Model: colbert-ir/colbertv2.0\n",
      "Loading ColBERTRanker model colbert-ir/colbertv2.0 (this message can be suppressed by setting verbose=0)\n",
      "No device set\n",
      "Using device mps\n",
      "No dtype set\n",
      "Using dtype torch.float32\n",
      "Loading model colbert-ir/colbertv2.0, this might take a while...\n",
      "Linear Dim set to: 128 for downcasting\n",
      "Loading default colbert model for language en\n",
      "Default Model: colbert-ir/colbertv2.0\n",
      "Loading ColBERTRanker model colbert-ir/colbertv2.0 (this message can be suppressed by setting verbose=0)\n",
      "No device set\n",
      "Using device mps\n",
      "No dtype set\n",
      "Using dtype torch.float32\n",
      "Loading model colbert-ir/colbertv2.0, this might take a while...\n",
      "Linear Dim set to: 128 for downcasting\n",
      "Loading default colbert model for language en\n",
      "Default Model: colbert-ir/colbertv2.0\n",
      "Loading ColBERTRanker model colbert-ir/colbertv2.0 (this message can be suppressed by setting verbose=0)\n",
      "No device set\n",
      "Using device mps\n",
      "No dtype set\n",
      "Using dtype torch.float32\n",
      "Loading model colbert-ir/colbertv2.0, this might take a while...\n",
      "Linear Dim set to: 128 for downcasting\n",
      "Loading default colbert model for language en\n",
      "Default Model: colbert-ir/colbertv2.0\n",
      "Loading ColBERTRanker model colbert-ir/colbertv2.0 (this message can be suppressed by setting verbose=0)\n",
      "No device set\n",
      "Using device mps\n",
      "No dtype set\n",
      "Using dtype torch.float32\n",
      "Loading model colbert-ir/colbertv2.0, this might take a while...\n",
      "Linear Dim set to: 128 for downcasting\n",
      "Loading default colbert model for language en\n",
      "Default Model: colbert-ir/colbertv2.0\n",
      "Loading ColBERTRanker model colbert-ir/colbertv2.0 (this message can be suppressed by setting verbose=0)\n",
      "No device set\n",
      "Using device mps\n",
      "No dtype set\n",
      "Using dtype torch.float32\n",
      "Loading model colbert-ir/colbertv2.0, this might take a while...\n",
      "Linear Dim set to: 128 for downcasting\n",
      "Loading default colbert model for language en\n",
      "Default Model: colbert-ir/colbertv2.0\n",
      "Loading ColBERTRanker model colbert-ir/colbertv2.0 (this message can be suppressed by setting verbose=0)\n",
      "No device set\n",
      "Using device mps\n",
      "No dtype set\n",
      "Using dtype torch.float32\n",
      "Loading model colbert-ir/colbertv2.0, this might take a while...\n",
      "Linear Dim set to: 128 for downcasting\n",
      "Loading default colbert model for language en\n",
      "Default Model: colbert-ir/colbertv2.0\n",
      "Loading ColBERTRanker model colbert-ir/colbertv2.0 (this message can be suppressed by setting verbose=0)\n",
      "No device set\n",
      "Using device mps\n",
      "No dtype set\n",
      "Using dtype torch.float32\n",
      "Loading model colbert-ir/colbertv2.0, this might take a while...\n",
      "Linear Dim set to: 128 for downcasting\n",
      "Loading default colbert model for language en\n",
      "Default Model: colbert-ir/colbertv2.0\n",
      "Loading ColBERTRanker model colbert-ir/colbertv2.0 (this message can be suppressed by setting verbose=0)\n",
      "No device set\n",
      "Using device mps\n",
      "No dtype set\n",
      "Using dtype torch.float32\n",
      "Loading model colbert-ir/colbertv2.0, this might take a while...\n",
      "Linear Dim set to: 128 for downcasting\n",
      "Loading default colbert model for language en\n",
      "Default Model: colbert-ir/colbertv2.0\n",
      "Loading ColBERTRanker model colbert-ir/colbertv2.0 (this message can be suppressed by setting verbose=0)\n",
      "No device set\n",
      "Using device mps\n",
      "No dtype set\n",
      "Using dtype torch.float32\n",
      "Loading model colbert-ir/colbertv2.0, this might take a while...\n",
      "Linear Dim set to: 128 for downcasting\n",
      "Loading default colbert model for language en\n",
      "Default Model: colbert-ir/colbertv2.0\n",
      "Loading ColBERTRanker model colbert-ir/colbertv2.0 (this message can be suppressed by setting verbose=0)\n",
      "No device set\n",
      "Using device mps\n",
      "No dtype set\n",
      "Using dtype torch.float32\n",
      "Loading model colbert-ir/colbertv2.0, this might take a while...\n",
      "Linear Dim set to: 128 for downcasting\n",
      "Loading default colbert model for language en\n",
      "Default Model: colbert-ir/colbertv2.0\n",
      "Loading ColBERTRanker model colbert-ir/colbertv2.0 (this message can be suppressed by setting verbose=0)\n",
      "No device set\n",
      "Using device mps\n",
      "No dtype set\n",
      "Using dtype torch.float32\n",
      "Loading model colbert-ir/colbertv2.0, this might take a while...\n",
      "Linear Dim set to: 128 for downcasting\n",
      "Loading default colbert model for language en\n",
      "Default Model: colbert-ir/colbertv2.0\n",
      "Loading ColBERTRanker model colbert-ir/colbertv2.0 (this message can be suppressed by setting verbose=0)\n",
      "No device set\n",
      "Using device mps\n",
      "No dtype set\n",
      "Using dtype torch.float32\n",
      "Loading model colbert-ir/colbertv2.0, this might take a while...\n",
      "Linear Dim set to: 128 for downcasting\n",
      "Loading default colbert model for language en\n",
      "Default Model: colbert-ir/colbertv2.0\n",
      "Loading ColBERTRanker model colbert-ir/colbertv2.0 (this message can be suppressed by setting verbose=0)\n",
      "No device set\n",
      "Using device mps\n",
      "No dtype set\n",
      "Using dtype torch.float32\n",
      "Loading model colbert-ir/colbertv2.0, this might take a while...\n",
      "Linear Dim set to: 128 for downcasting\n",
      "Loading default colbert model for language en\n",
      "Default Model: colbert-ir/colbertv2.0\n",
      "Loading ColBERTRanker model colbert-ir/colbertv2.0 (this message can be suppressed by setting verbose=0)\n",
      "No device set\n",
      "Using device mps\n",
      "No dtype set\n",
      "Using dtype torch.float32\n",
      "Loading model colbert-ir/colbertv2.0, this might take a while...\n",
      "Linear Dim set to: 128 for downcasting\n"
     ]
    }
   ],
   "source": [
    "contexts = []\n",
    "answers = []\n",
    "# Inference\n",
    "for query in questions:\n",
    "    answers.append(rag_chain.invoke(query))\n",
    "    retrieved_docs = retriever.get_relevant_documents(query)\n",
    "    reranked_docs = open_source_reranker(query, retrieved_docs)\n",
    "    if reranked_docs.results:  # Check if there are any results\n",
    "        contexts.append([reranked_docs.results[0].document.text])\n",
    "\n",
    "data = {\n",
    "    \"question\": questions,\n",
    "    \"answer\": answers,\n",
    "    \"reference\": ground_truth,\n",
    "    \"retrieved_contexts\": contexts\n",
    "}"
   ]
  },
  {
   "cell_type": "code",
   "execution_count": 30,
   "metadata": {},
   "outputs": [
    {
     "data": {
      "application/vnd.jupyter.widget-view+json": {
       "model_id": "3007d1ef11164768be6010a281998f5a",
       "version_major": 2,
       "version_minor": 0
      },
      "text/plain": [
       "Evaluating:   0%|          | 0/60 [00:00<?, ?it/s]"
      ]
     },
     "metadata": {},
     "output_type": "display_data"
    }
   ],
   "source": [
    "reranked_dataset = Dataset.from_dict(data)\n",
    "result = evaluate(\n",
    "    dataset = reranked_dataset,\n",
    "    llm=llm,\n",
    "    embeddings=embeddings,\n",
    "    metrics=[\n",
    "        context_recall,\n",
    "        faithfulness,\n",
    "        answer_relevancy,\n",
    "        context_precision,\n",
    "    ],)\n",
    "reranked_df = result.to_pandas()\n",
    "reranked_df.to_csv(\"reranked_ragas_results.csv\", index=False)\n"
   ]
  },
  {
   "cell_type": "code",
   "execution_count": 31,
   "metadata": {},
   "outputs": [
    {
     "name": "stdout",
     "output_type": "stream",
     "text": [
      "Mean Faithfulness:  0.66\n",
      "Mean Answer relevancy:  0.6593\n",
      "Mean Context recall:  0.8667\n",
      "Mean Context precision:  0.8667\n"
     ]
    }
   ],
   "source": [
    "# get mean of the metrics column by column\n",
    "print(\"Mean Faithfulness: \", round(reranked_df[\"faithfulness\"].mean(), 4))\n",
    "print(\"Mean Answer relevancy: \", round(reranked_df[\"answer_relevancy\"].mean(), 4))\n",
    "print(\"Mean Context recall: \", round(reranked_df[\"context_recall\"].mean(), 4))\n",
    "print(\"Mean Context precision: \", round(reranked_df[\"context_precision\"].mean(), 4))"
   ]
  },
  {
   "cell_type": "code",
   "execution_count": null,
   "metadata": {},
   "outputs": [],
   "source": []
  }
 ],
 "metadata": {
  "kernelspec": {
   "display_name": ".venv",
   "language": "python",
   "name": "python3"
  },
  "language_info": {
   "codemirror_mode": {
    "name": "ipython",
    "version": 3
   },
   "file_extension": ".py",
   "mimetype": "text/x-python",
   "name": "python",
   "nbconvert_exporter": "python",
   "pygments_lexer": "ipython3",
   "version": "3.11.6"
  }
 },
 "nbformat": 4,
 "nbformat_minor": 2
}
